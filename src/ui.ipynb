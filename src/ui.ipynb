{
 "cells": [
  {
   "cell_type": "code",
   "execution_count": null,
   "metadata": {},
   "outputs": [],
   "source": [
    "#%%\n",
    "%matplotlib widget\n",
    "import matplotlib.pyplot as plt\n",
    "from matplotlib.widgets import Button\n",
    "from matplotlib.animation import FuncAnimation\n",
    "import numpy as np\n",
    "import ipympl as mpl\n",
    "import math\n",
    "from node import obstacles\n",
    "\n",
    "def drawObstacle(event, isPressed):\n",
    "    if event.button == 1 and isPressed:\n",
    "        plt.plot(event.xdata, event.ydata, 'ko', markersize=5)\n",
    "        obstacles = np.array([event.xdata, event.ydata])\n",
    "        fig.canvas.draw()\n",
    "\n",
    "def addStartPoint(event):\n",
    "    plt.plot(0, 0, 'ro', markersize=5)\n",
    "    fig.canvas.draw()\n",
    "    \n",
    "def addEndPoint(event):\n",
    "    plt.plot(100, 100, 'go', markersize=5)\n",
    "    fig.canvas.draw()\n",
    "\n",
    "def findPath():\n",
    "    # Draw the path\n",
    "    pass\n",
    "\n",
    "# Create the figure and axes\n",
    "fig, ax = plt.subplots()\n",
    "\n",
    "# Hide the header and toolbar\n",
    "fig.canvas.header_visible = False\n",
    "fig.canvas.toolbar_visible = False\n",
    "\n",
    "# Set the limit of the plot\n",
    "plt.ylim(0, 100)\n",
    "plt.xlim(0, 100)\n",
    "\n",
    "# Create the buttons and adjust the subplot so that there is space for the buttons\n",
    "plt.subplots_adjust(bottom=0.2)\n",
    "addStartPointButton = Button(plt.axes([0.15, 0.05, 0.2, 0.075]), 'Add Start Point')\n",
    "addEndPointButton = Button(plt.axes([0.45, 0.05, 0.2, 0.075]), 'Add End Point')\n",
    "findPathButton = Button(plt.axes([0.75, 0.05, 0.2, 0.075]), 'Find Path')\n",
    "\n",
    "# Draw the obstacles while left mouse button is pressed\n",
    "fig.canvas.mpl_connect('button_press_event', lambda event: drawObstacle(event, True))\n",
    "\n",
    "addStartPointButton.on_clicked(addStartPoint)\n",
    "addEndPointButton.on_clicked(addEndPoint)\n",
    "findPathButton.on_clicked(findPath)\n",
    "\n",
    "plt.show()"
   ]
  }
 ],
 "metadata": {
  "kernelspec": {
   "display_name": "Python 3",
   "language": "python",
   "name": "python3"
  },
  "language_info": {
   "name": "python",
   "version": "3.11.0 (main, Oct 24 2022, 18:26:48) [MSC v.1933 64 bit (AMD64)]"
  },
  "orig_nbformat": 4,
  "vscode": {
   "interpreter": {
    "hash": "c261aea317cc0286b3b3261fbba9abdec21eaa57589985bb7a274bf54d6cc0a7"
   }
  }
 },
 "nbformat": 4,
 "nbformat_minor": 2
}
